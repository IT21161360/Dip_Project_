{
 "cells": [
  {
   "cell_type": "code",
   "execution_count": null,
   "metadata": {},
   "outputs": [],
   "source": [
    "! pip install keras\n",
    "! pip install huggingface_hub\n",
    "\n",
    "import numpy as np\n",
    "from huggingface_hub import from_pretrained_keras\n",
    "import keras\n",
    "from PIL import Image\n",
    "import matplotlib.pyplot as plt\n",
    "\n",
    "model = from_pretrained_keras(\"keras-io/lowlight-enhance-mirnet\", compile=False)\n",
    "\n",
    "def enhance_low_light_image(input_image_path):\n",
    "    # Open and preprocess the input image\n",
    "    low_light_img = Image.open(input_image_path).convert('RGB')\n",
    "    low_light_img = low_light_img.resize((256, 256), Image.NEAREST)\n",
    "    image = keras.preprocessing.image.img_to_array(low_light_img)\n",
    "    image = image.astype('float32') / 255.0\n",
    "    image = np.expand_dims(image, axis=0)\n",
    "\n",
    "    # Enhance the low light image using the model\n",
    "    output = model.predict(image)\n",
    "\n",
    "    # Post-process the output image\n",
    "    output_image = output[0] * 255.0\n",
    "    output_image = output_image.clip(0, 255)\n",
    "    output_image = output_image.reshape((np.shape(output_image)[0], np.shape(output_image)[1], 3))\n",
    "    output_image = np.uint8(output_image)\n",
    "\n",
    "    # Display the original and enhanced images\n",
    "    fig, axs = plt.subplots(1, 2)\n",
    "    \n",
    "    # Original Image\n",
    "    axs[0].imshow(low_light_img)\n",
    "    axs[0].set_title(\"Original Image\")\n",
    "    axs[0].axis('off')\n",
    "    \n",
    "    # Enhanced Image\n",
    "    axs[1].imshow(output_image)\n",
    "    axs[1].set_title(\"Enhanced Image\")\n",
    "    axs[1].axis('off')\n",
    "    \n",
    "    plt.show()\n",
    "\n",
    "# Example usage\n",
    "input_image_path = 'C:/Users/Dewmi Silva/Downloads/YellowLabradorLooking_new.jpg'\n",
    "enhance_low_light_image(input_image_path)\n"
   ]
  }
 ],
 "metadata": {
  "language_info": {
   "name": "python"
  }
 },
 "nbformat": 4,
 "nbformat_minor": 2
}
